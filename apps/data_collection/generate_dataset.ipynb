{
 "cells": [
  {
   "cell_type": "code",
   "execution_count": 5,
   "metadata": {},
   "outputs": [],
   "source": [
    "import os\n",
    "import random\n",
    "from time import sleep\n",
    "from scrapping_google_images import get_good_soup, get_original_images\n",
    "\n",
    "\n",
    "queries = [['кухонный шкаф напольный', 'кухонный шкаф навесной', 'кухонный шкаф икеа', 'кухонный шкаф новый',\n",
    "            'кухонный шкаф с выдвижными ящиками','кухонный шкаф пенал'], \n",
    "           ['bathtub', 'bathtub new', 'bathtub modern', 'bathtub big', 'bathtub small'],\n",
    "           ['electrical switch on a wall', 'electrical switch white', 'electrical switch new', 'light switches','light switches on a wall'], \n",
    "           ['electrical socket', 'electrical socket on a wall', 'electrical outlet', 'electrical outlet on a wall', 'outlet for charger'], \n",
    "           ['sink', 'sink modern', 'sink new', 'sink big', 'sink kitchen'], \n",
    "           ['door', 'door new', 'door modern', 'door big', 'door small'],\n",
    "           ['toilet seat', 'toilet seat modern', 'toilet seat small', 'toilet seat new', 'toilet seat big']]\n",
    "\n",
    "\n",
    "classes = ['kitchen', 'bath', 'switch', 'socket', 'sink', 'door', 'toilet seat']\n",
    "\n",
    "\n",
    "assert len(classes) == len(queries)\n",
    "\n",
    "\n",
    "def build_dataset_part(class_name: str, queries: list[str], file_position:str=None, limit_per_query:int=200):\n",
    "    if file_position is None:\n",
    "        file_location = os.path.join(os.getcwd(), 'data', class_name)\n",
    "    \n",
    "    # create the directory if it does not exist\n",
    "    os.makedirs(file_location, exist_ok=True)\n",
    "\n",
    "    for q in queries:\n",
    "        soup = get_good_soup(q)\n",
    "        # extract the images and save them to the file location\n",
    "        images = get_original_images(soup, q, file_location=file_location, limit=limit_per_query)\n",
    "        sleep(random.randint(60, 150))"
   ]
  },
  {
   "cell_type": "code",
   "execution_count": 6,
   "metadata": {},
   "outputs": [
    {
     "name": "stderr",
     "output_type": "stream",
     "text": [
      "c:\\Users\\bouab\\DEV\\construction_hack\\ml\\scrapping_google_images.py:98: GuessedAtParserWarning: No parser was explicitly specified, so I'm using the best available HTML parser for this system (\"lxml\"). This usually isn't a problem, but if you run this code on another system, or in a different virtual environment, it may use a different parser and behave differently.\n",
      "\n",
      "The code that caused this warning is on line 98 of the file c:\\Users\\bouab\\DEV\\construction_hack\\ml\\scrapping_google_images.py. To get rid of this warning, pass the additional argument 'features=\"lxml\"' to the BeautifulSoup constructor.\n",
      "\n",
      "  soup = BeautifulSoup(html.text, \"html\")\n"
     ]
    }
   ],
   "source": [
    "# let's do this\n",
    "for c, qs in zip(classes, queries):\n",
    "    build_dataset_part(c, qs) "
   ]
  },
  {
   "cell_type": "code",
   "execution_count": null,
   "metadata": {},
   "outputs": [],
   "source": []
  },
  {
   "cell_type": "code",
   "execution_count": null,
   "metadata": {},
   "outputs": [],
   "source": []
  }
 ],
 "metadata": {
  "kernelspec": {
   "display_name": ".venv",
   "language": "python",
   "name": "python3"
  },
  "language_info": {
   "codemirror_mode": {
    "name": "ipython",
    "version": 3
   },
   "file_extension": ".py",
   "mimetype": "text/x-python",
   "name": "python",
   "nbconvert_exporter": "python",
   "pygments_lexer": "ipython3",
   "version": "3.10.9"
  },
  "orig_nbformat": 4
 },
 "nbformat": 4,
 "nbformat_minor": 2
}
